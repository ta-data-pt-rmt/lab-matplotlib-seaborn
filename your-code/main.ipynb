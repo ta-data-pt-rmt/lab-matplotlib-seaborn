{
 "cells": [
  {
   "cell_type": "markdown",
   "metadata": {},
   "source": [
    "# Lab | Matplotlib & Seaborn\n",
    "\n",
    "#### Import all the necessary libraries here:"
   ]
  },
  {
   "cell_type": "code",
   "execution_count": null,
   "metadata": {},
   "outputs": [],
   "source": [
    "# Imports\n",
    "\n",
    "import numpy as np\n",
    "import pandas as pd\n",
    "import matplotlib.pyplot as plt\n",
    "import seaborn as sns"
   ]
  },
  {
   "cell_type": "markdown",
   "metadata": {},
   "source": [
    "## Challenge 1\n",
    "\n",
    "#### The data we will use in this challenge is:"
   ]
  },
  {
   "cell_type": "code",
   "execution_count": null,
   "metadata": {},
   "outputs": [],
   "source": [
    "x = np.arange(0, 100)\n",
    "y = x * 2\n",
    "z = x ** 2"
   ]
  },
  {
   "cell_type": "markdown",
   "metadata": {},
   "source": [
    "#### Plot (x, y) and (x, z).\n",
    "There are 2 ways of doing this. Do in both ways.\n",
    "\n",
    "**Hint**: Check out the nrows, ncols and index arguments of subplots. \n",
    "\n",
    "Also, play around with the linewidth and style. Use the ones you're most happy with."
   ]
  },
  {
   "cell_type": "code",
   "execution_count": null,
   "metadata": {},
   "outputs": [],
   "source": [
    "plt.plot(x, y, linewidth = 2, color = 'green', linestyle = 'dashdot')\n",
    "plt.show()\n",
    "\n",
    "plt.plot(x, z, linewidth = 4, color = 'red', linestyle = 'dashed')\n",
    "plt.show()"
   ]
  },
  {
   "cell_type": "markdown",
   "metadata": {},
   "source": [
    "#### Use plt.subplots(nrows=1, ncols=2) to create the plot."
   ]
  },
  {
   "cell_type": "code",
   "execution_count": null,
   "metadata": {},
   "outputs": [],
   "source": [
    "plot_options, (plot_1, plot_2) = plt.subplots(nrows = 1, ncols = 2)\n",
    "\n",
    "plot_1.plot(x, y, linewidth = 2, color = 'green', linestyle = 'dashdot')\n",
    "plot_2.plot(x, z, linewidth = 4, color = 'red', linestyle = 'dashed')\n",
    "\n",
    "plt.show()"
   ]
  },
  {
   "cell_type": "markdown",
   "metadata": {},
   "source": [
    "#### Use your previous code but now, resize your plot.\n",
    "**Hint**: Add the figsize argument in plt.subplots().\n",
    "\n",
    "If you want, try to add a title to the plot or even axes labels. You can also play with the fontweight and fontsize of the titles and labels. "
   ]
  },
  {
   "cell_type": "code",
   "execution_count": null,
   "metadata": {},
   "outputs": [],
   "source": [
    "plot_options, (plot_1, plot_2) = plt.subplots(nrows = 1, ncols = 2, figsize = (13, 4))\n",
    "\n",
    "plot_1.plot(x, y, linewidth = 2, color = 'green', linestyle = 'dashdot')\n",
    "plot_1.set_xlabel('plot 1 x axis', fontweight = 'bold', size = 10)\n",
    "plot_1.set_ylabel('plot 1 y axis', fontweight = 'bold', size = 10)\n",
    "plot_1.set_title('Very important plot', fontweight = 'bold', fontstyle = 'italic', size = 18)\n",
    "\n",
    "plot_2.plot(x, z, linewidth = 4, color = 'red', linestyle = 'dashed')\n",
    "plot_2.set_xlabel('plot 2 x axis', fontweight = 'bold', size = 10)\n",
    "plot_2.set_ylabel('plot 2 y axis', fontweight = 'bold', size = 10)\n",
    "plot_2.set_title('Even more important plot', fontweight = 'bold', fontstyle = 'italic', size = 18)\n",
    "\n",
    "plt.subplots_adjust(wspace = 0.25)\n",
    "\n",
    "plt.show()"
   ]
  },
  {
   "cell_type": "markdown",
   "metadata": {},
   "source": [
    "#### Plot both $y=x^2$ and $y=e^x$ in the same plot using normal and logarithmic scale.\n",
    "**Hint**: Use `set_xscale` and `set_yscale`."
   ]
  },
  {
   "cell_type": "code",
   "execution_count": null,
   "metadata": {},
   "outputs": [],
   "source": [
    "plot_options, (plot_1, plot_2) = plt.subplots(nrows = 1, ncols = 2, figsize = (13, 4))\n",
    "\n",
    "y = x ** 2\n",
    "\n",
    "plot_1.plot(x, y, linewidth = 2, color = 'green', linestyle = 'dashdot')\n",
    "plot_1.set_xlabel('normal scale x axis', fontweight = 'bold', size = 10)\n",
    "plot_1.set_ylabel('normal scale y axis', fontweight = 'bold', size = 10)\n",
    "plot_1.set_title('normal scale', fontweight = 'bold', fontstyle = 'italic', size = 18)\n",
    "\n",
    "y = np.exp(x)\n",
    "\n",
    "plot_2.plot(x, y, linewidth = 4, color = 'red', linestyle = 'dashed')\n",
    "plot_2.set_xlabel('logarithmic scale x axis', fontweight = 'bold', size = 10)\n",
    "plot_2.set_ylabel('logarithmic scale y axis', fontweight = 'bold', size = 10)\n",
    "plot_2.set_title('logarithmic scale', fontweight = 'bold', fontstyle = 'italic', size = 18)\n",
    "\n",
    "plot_2.set_xscale('log')\n",
    "plot_2.set_yscale('log')\n",
    "\n",
    "plt.subplots_adjust(wspace = 0.25)\n",
    "\n",
    "plt.show()"
   ]
  },
  {
   "cell_type": "markdown",
   "metadata": {},
   "source": [
    "#### As a bonus challenge, try to add a legend to the plot."
   ]
  },
  {
   "cell_type": "code",
   "execution_count": null,
   "metadata": {},
   "outputs": [],
   "source": [
    "plot_options, (plot_1, plot_2) = plt.subplots(nrows = 1, ncols = 2, figsize = (13, 4))\n",
    "\n",
    "y = x ** 2\n",
    "\n",
    "plot_1.plot(x, y, linewidth = 2, color = 'green', linestyle = 'dashdot', label = 'y = x ** 2')\n",
    "plot_1.set_xlabel('normal scale x axis', fontweight = 'bold', size = 10)\n",
    "plot_1.set_ylabel('normal scale y axis', fontweight = 'bold', size = 10)\n",
    "plot_1.set_title('normal scale', fontweight = 'bold', fontstyle = 'italic', size = 18)\n",
    "plot_1.legend(loc = 'center left', bbox_to_anchor = (0.01, 0.919))\n",
    "\n",
    "y = np.exp(x)\n",
    "\n",
    "plot_2.plot(x, y, linewidth = 4, color = 'red', linestyle = 'dashed', label = 'y = np.exp(x)')\n",
    "plot_2.set_xlabel('logarithmic scale x axis', fontweight = 'bold', size = 10)\n",
    "plot_2.set_ylabel('logarithmic scale y axis', fontweight = 'bold', size = 10)\n",
    "plot_2.set_title('logarithmic scale', fontweight = 'bold', fontstyle = 'italic', size = 18)\n",
    "plot_2.legend(loc = 'center left', bbox_to_anchor = (0.01, 0.919))\n",
    "\n",
    "plot_2.set_xscale('log')\n",
    "plot_2.set_yscale('log')\n",
    "\n",
    "plt.subplots_adjust(wspace = 0.25)\n",
    "\n",
    "plt.show()"
   ]
  },
  {
   "cell_type": "markdown",
   "metadata": {},
   "source": [
    "## Challenge 2\n",
    "#### Import the `Fitbit2` dataset and store it in a variable called `fitbit`. You can find the dataset in Ironhack's database:\n",
    "* db: `fitbit`\n",
    "* table: `fitbit2`"
   ]
  },
  {
   "cell_type": "code",
   "execution_count": null,
   "metadata": {},
   "outputs": [],
   "source": [
    "fitbit = pd.read_csv('Fitbit2.csv')\n",
    "\n",
    "fitbit.head()"
   ]
  },
  {
   "cell_type": "markdown",
   "metadata": {},
   "source": [
    "#### From the Fitbit data, we want to visually understand:\n",
    "\n",
    "How the average number of steps change by month. Use the appropriate visualization to show the median steps by month. Is Fitbitter more active on weekend or workdays? All plots must be in the same jupyter notebook cell.\n",
    "\n",
    "**Hints**:\n",
    "\n",
    "* Use Months_encoded and Week_or Weekend columns.\n",
    "* Use matplolib.pyplot object oriented API.\n",
    "* Set your size figure to 12,4\n",
    "* Explore plt.sca\n",
    "* Explore plt.xticks\n",
    "* Save your figures in a folder called `figures` in your repo. "
   ]
  },
  {
   "cell_type": "code",
   "execution_count": null,
   "metadata": {},
   "outputs": [],
   "source": [
    "# Calculate steps by months (mean)\n",
    "steps_month_mean = fitbit.groupby(['Months', 'Months_encoded'])['Steps'].agg(np.mean).reset_index().sort_values('Months_encoded')\n",
    "\n",
    "# Calculate steps by work or weekend (mean)\n",
    "steps_work_we_mean = fitbit.groupby(['Work_or_Weekend'])['Steps'].agg(np.mean).reset_index().sort_values('Work_or_Weekend', ascending = False)\n",
    "steps_work_we_mean['Work_or_Weekend'] = [['Weekend', 'Work'][value] for value in steps_work_we_mean['Work_or_Weekend']]\n",
    "\n",
    "# Plot average steps per month\n",
    "plt.figure(figsize = (12, 4))\n",
    "plt.bar(steps_month_mean['Months'], steps_month_mean['Steps'])\n",
    "plt.title('Average steps by months', fontstyle = 'italic', size = 18)\n",
    "plt.ylabel('Steps - mean', fontweight = 'bold', size = 10)\n",
    "plt.xticks(rotation = 90)\n",
    "plt.savefig('figures/steps_month_mean')\n",
    "plt.show()\n",
    "\n",
    "# Plot average steps by work or weekend\n",
    "plt.figure(figsize = (12, 4))\n",
    "plt.bar(steps_work_we_mean['Work_or_Weekend'], steps_work_we_mean['Steps'])\n",
    "plt.title('Average steps by work or weekend', fontstyle = 'italic', size = 18)\n",
    "plt.ylabel('Steps - mean', fontweight = 'bold', size = 10)\n",
    "plt.xticks(size = 14)\n",
    "plt.savefig('figures/steps_work_we_mean')\n",
    "plt.show()"
   ]
  },
  {
   "cell_type": "markdown",
   "metadata": {},
   "source": [
    "#### Write a loop to plot 3 scatter plots of the following features:\n",
    "\n",
    "* Minutes Lightly Active vs Steps    \n",
    "* Minutes Very Active vs Steps    \n",
    "* Minutes Sedentary vs Steps  "
   ]
  },
  {
   "cell_type": "code",
   "execution_count": null,
   "metadata": {},
   "outputs": [],
   "source": [
    "features = ['Minutes Lightly Active', 'Minutes Very Active', 'Minutes Sedentary']\n",
    "\n",
    "for feature in features:\n",
    "   plt.scatter(fitbit[feature], fitbit['Steps'], c = fitbit['Steps'])\n",
    "   plt.title(f'{feature} vs. Steps', fontstyle = 'italic', size = 18)\n",
    "   plt.xlabel(feature, fontweight = 'bold', size = 10)\n",
    "   plt.ylabel('Steps made', fontweight = 'bold', size = 10)\n",
    "   plt.colorbar()\n",
    "   plt.show()"
   ]
  },
  {
   "cell_type": "markdown",
   "metadata": {},
   "source": [
    "## Challenge 3\n",
    "\n",
    "#### Import the `titanic` dataset and store it in a variable called `titanic`. You can find the dataset in Ironhack's database:\n",
    "* db: `titanic`\n",
    "* table: `titanic`"
   ]
  },
  {
   "cell_type": "code",
   "execution_count": null,
   "metadata": {
    "scrolled": true
   },
   "outputs": [],
   "source": [
    "titanic = pd.read_csv('titanic.csv')\n",
    "\n",
    "titanic.head()"
   ]
  },
  {
   "cell_type": "markdown",
   "metadata": {},
   "source": [
    "#### Explore the titanic dataset using Pandas dtypes."
   ]
  },
  {
   "cell_type": "code",
   "execution_count": null,
   "metadata": {},
   "outputs": [],
   "source": [
    "titanic.dtypes"
   ]
  },
  {
   "cell_type": "markdown",
   "metadata": {},
   "source": [
    "#### What are your numerical variables? What are your categorical variables?\n",
    "**Hint**: Use Pandas select_dtypes."
   ]
  },
  {
   "cell_type": "code",
   "execution_count": null,
   "metadata": {},
   "outputs": [],
   "source": [
    "# Numerical variables\n",
    "\n",
    "titanic.select_dtypes(include = 'number').head()"
   ]
  },
  {
   "cell_type": "code",
   "execution_count": null,
   "metadata": {},
   "outputs": [],
   "source": [
    "# Categorical variables\n",
    "\n",
    "titanic.select_dtypes(exclude = 'number').head()"
   ]
  },
  {
   "cell_type": "markdown",
   "metadata": {},
   "source": [
    "#### Set the plot style to classic and the figure size to (12,6).\n",
    "**Hint**: To set the style you can use matplotlib or seaborn functions. Do some research on the matter."
   ]
  },
  {
   "cell_type": "code",
   "execution_count": null,
   "metadata": {},
   "outputs": [],
   "source": [
    "plt.style.use('classic')\n",
    "plt.figure(figsize = (12, 6))"
   ]
  },
  {
   "cell_type": "markdown",
   "metadata": {},
   "source": [
    "#### Use the right visulalization to show the distribution of column `Age`."
   ]
  },
  {
   "cell_type": "code",
   "execution_count": null,
   "metadata": {},
   "outputs": [],
   "source": [
    "plt.hist(titanic['Age'], bins = int(titanic['Age'].max()))\n",
    "plt.title('Passenger age distribution', fontstyle = 'italic', size = 18)\n",
    "plt.xlabel('Number of years', size = 10)\n",
    "plt.ylabel('Number of passengers', size = 10)\n",
    "plt.show()"
   ]
  },
  {
   "cell_type": "markdown",
   "metadata": {},
   "source": [
    "#### Use subplots and plot the distribution of the `Age`  with bins equal to 10, 20 and 50."
   ]
  },
  {
   "cell_type": "code",
   "execution_count": null,
   "metadata": {},
   "outputs": [],
   "source": [
    "plot_options, (plot_1, plot_2, plot_3) = plt.subplots(nrows = 1, ncols = 3, figsize = (13, 4))\n",
    "\n",
    "plt.suptitle('Passenger age distribution', fontweight = 'bold', fontstyle = 'italic', size = 20, y = 1.06)\n",
    "\n",
    "plot_1.hist(titanic['Age'], bins = 10)\n",
    "plot_1.set_ylabel('Number of passengers', size = 10, fontweight = 'bold')\n",
    "plot_1.set_title('10 bins', fontstyle = 'italic', size = 15)\n",
    "\n",
    "plot_2.hist(titanic['Age'], color = 'green', bins = 20)\n",
    "plot_2.set_xlabel('Number of years', size = 10, fontweight = 'bold')\n",
    "plot_2.set_title('20 bins', fontstyle = 'italic', size = 15)\n",
    "\n",
    "plot_3.hist(titanic['Age'], color = 'orange', bins = 50)\n",
    "plot_3.set_title('50 bins', fontstyle = 'italic', size = 15)\n",
    "\n",
    "plt.show()"
   ]
  },
  {
   "cell_type": "markdown",
   "metadata": {},
   "source": [
    "#### How does the bin size affect your plot?"
   ]
  },
  {
   "cell_type": "code",
   "execution_count": null,
   "metadata": {},
   "outputs": [],
   "source": [
    "# ANSWER:\n",
    "# The size of the bins determines how detailed the data is displayed.\n",
    "# The larger they are, the more 'interpolated' the data is plotted.\n",
    "# To use a reasonable size in our case, I would go for 50 bins."
   ]
  },
  {
   "cell_type": "markdown",
   "metadata": {},
   "source": [
    "#### Use seaborn to show the distribution of column `Age`."
   ]
  },
  {
   "cell_type": "code",
   "execution_count": null,
   "metadata": {},
   "outputs": [],
   "source": [
    "sns.displot(titanic['Age'], binwidth = 2)\n",
    "plt.xlim(0, 80)\n",
    "plt.xlabel('Number of years')\n",
    "plt.ylabel('Number of passengers')\n",
    "plt.title('Passenger age distribution', fontstyle = 'italic', size = 18, y = 1.04)\n",
    "plt.show()"
   ]
  },
  {
   "cell_type": "markdown",
   "metadata": {},
   "source": [
    "#### Use the right plot to visualize column `Gender`. There are 2 ways of doing it. Do it both ways.\n",
    "**Hint**: Use matplotlib and seaborn."
   ]
  },
  {
   "cell_type": "code",
   "execution_count": null,
   "metadata": {},
   "outputs": [],
   "source": [
    "# Method 1 - matplotlib\n",
    "plt.figure(figsize = (5, 5))\n",
    "plt.hist(titanic['Gender'], color = 'orange', bins = np.arange(0, 3) - 0.5)\n",
    "plt.title('Passenger gender distribution', fontstyle = 'italic', size = 18, y = 1.04)\n",
    "plt.xlabel('Gender', fontweight = 'bold', size = 18)\n",
    "plt.ylabel('Number of passengers')\n",
    "plt.show()"
   ]
  },
  {
   "cell_type": "code",
   "execution_count": null,
   "metadata": {},
   "outputs": [],
   "source": [
    "# Method 2 - seaborn\n",
    "sns.displot(titanic['Gender'])\n",
    "plt.title('Passenger gender distribution', fontstyle = 'italic', size = 18, y = 1.04)\n",
    "plt.xlabel('Gender', fontweight = 'bold', size = 18)\n",
    "plt.ylabel('Number of passengers')\n",
    "plt.show()"
   ]
  },
  {
   "cell_type": "markdown",
   "metadata": {},
   "source": [
    "#### Use the right plot to visualize the column `Pclass`."
   ]
  },
  {
   "cell_type": "code",
   "execution_count": null,
   "metadata": {},
   "outputs": [],
   "source": [
    "# Calculate pclass distribution\n",
    "pclass = titanic['Pclass'].value_counts()\n",
    "\n",
    "# Plot pclass distribution\n",
    "plt.bar(pclass.index, pclass.values, color = 'purple')\n",
    "plt.title('Passengers by class', fontstyle = 'italic', size = 20, y = 1.04)\n",
    "plt.xticks([1, 2, 3])\n",
    "plt.xlabel('Passenger classes', fontweight = 'bold', size = 14)\n",
    "plt.ylabel('Number of passengers', size = 14)\n",
    "plt.show()"
   ]
  },
  {
   "cell_type": "markdown",
   "metadata": {},
   "source": [
    "#### We would like to have in one single plot the summary statistics of the feature `Age`. What kind of plot would you use? Plot it. "
   ]
  },
  {
   "cell_type": "code",
   "execution_count": null,
   "metadata": {},
   "outputs": [],
   "source": [
    "plt.figure(figsize = (5, 6))\n",
    "plt.title(\"Summary stats titanic['Age']\", size = 20, y = 1.04)\n",
    "sns.boxplot(y = titanic['Age'], color = 'yellow')\n",
    "plt.show()"
   ]
  },
  {
   "cell_type": "code",
   "execution_count": null,
   "metadata": {},
   "outputs": [],
   "source": [
    "# ANSWER:\n",
    "# I would use a boxplot because it shows many important statistical values at once.\n",
    "# => minimum, 1st quartile, 2nd quartile (mean), 3rd quartile, interquartile range, maximum, oultliers"
   ]
  },
  {
   "cell_type": "markdown",
   "metadata": {},
   "source": [
    "#### What does the last plot tell you about the feature `Age`?"
   ]
  },
  {
   "cell_type": "code",
   "execution_count": null,
   "metadata": {},
   "outputs": [],
   "source": [
    "# ANSWER:\n",
    "# The passenger age range (maximum - minimum) is 0 to ~80 years.\n",
    "# 50 percent of the passengers were between ~22 and ~38 (interquartile range).\n",
    "# The data are slightly negatively skewed with the mean being at ~29 years.\n",
    "# There are some outliers among older people (~59 - 80)."
   ]
  },
  {
   "cell_type": "markdown",
   "metadata": {},
   "source": [
    "#### Now in addition to the summary statistics, we want to have in the same plot the distribution of `Age`. What kind of plot would you use? Plot it. "
   ]
  },
  {
   "cell_type": "code",
   "execution_count": null,
   "metadata": {},
   "outputs": [],
   "source": [
    "plt.figure(figsize = (5, 6))\n",
    "plt.title(\"Summary stats titanic['Age']\", size = 20, y = 1.04)\n",
    "sns.violinplot(data = titanic['Age'], color = 'yellow')\n",
    "plt.show()"
   ]
  },
  {
   "cell_type": "markdown",
   "metadata": {},
   "source": [
    "#### What additional information does the last plot provide about feature `Age`?"
   ]
  },
  {
   "cell_type": "code",
   "execution_count": null,
   "metadata": {},
   "outputs": [],
   "source": [
    "# ANSWER:\n",
    "# In addition to the previous information, we now also see the age distribution."
   ]
  },
  {
   "cell_type": "markdown",
   "metadata": {},
   "source": [
    "#### We suspect that there is a linear relationship between `Fare` and `Age`. Use the right plot to show the relationship between these 2 features. There are 2 ways, please do it both ways.\n",
    "**Hint**: Use matplotlib and seaborn."
   ]
  },
  {
   "cell_type": "code",
   "execution_count": null,
   "metadata": {},
   "outputs": [],
   "source": [
    "# Method 1 - matplotlib\n",
    "\n",
    "plt.figure(figsize = (5, 5))\n",
    "plt.scatter(titanic['Age'], titanic['Fare'], color = 'orange')\n",
    "plt.title('Passenger age/fare relation', fontstyle = 'italic', size = 18, y = 1.04)\n",
    "plt.xlabel('Passenger age', size = 14)\n",
    "plt.ylabel('Passenger fare', size = 14)\n",
    "# Remove negative start ticks\n",
    "xticks = [tick for tick in plt.gca().get_xticks() if tick >= 0]\n",
    "yticks = [tick for tick in plt.gca().get_yticks() if tick >= 0]\n",
    "plt.gca().set_xticks(xticks)\n",
    "plt.gca().set_yticks(yticks)\n",
    "plt.show()"
   ]
  },
  {
   "cell_type": "code",
   "execution_count": null,
   "metadata": {},
   "outputs": [],
   "source": [
    "# Method 2 - seaborn\n",
    "\n",
    "plt.figure(figsize = (5, 5))\n",
    "sns.scatterplot(data = titanic, x = 'Age', y = 'Fare', hue = 'Pclass')\n",
    "plt.title('Passenger age - fare relation', fontstyle = 'italic', size = 18, y = 1.04)\n",
    "plt.xlabel('Passenger age', size = 14)\n",
    "plt.ylabel('Passenger fare', size = 14)\n",
    "# Remove negative start ticks\n",
    "xticks = [tick for tick in plt.gca().get_xticks() if tick >= 0]\n",
    "yticks = [tick for tick in plt.gca().get_yticks() if tick >= 0]\n",
    "plt.gca().set_xticks(xticks)\n",
    "plt.gca().set_yticks(yticks)\n",
    "plt.show()"
   ]
  },
  {
   "cell_type": "markdown",
   "metadata": {},
   "source": [
    "#### Plot the correlation matrix using seaborn."
   ]
  },
  {
   "cell_type": "code",
   "execution_count": null,
   "metadata": {},
   "outputs": [],
   "source": [
    "titanic_matrix = titanic.drop(['PassengerId'], axis = 1)\n",
    "\n",
    "sns.heatmap(titanic_matrix.corr(), annot=True)\n",
    "plt.title('Titanic correlation matrix', fontstyle = 'italic', size = 18, y = 1.04)\n",
    "plt.show()"
   ]
  },
  {
   "cell_type": "markdown",
   "metadata": {},
   "source": [
    "#### What are the most correlated features?"
   ]
  },
  {
   "cell_type": "code",
   "execution_count": null,
   "metadata": {},
   "outputs": [],
   "source": [
    "# ANSWER:\n",
    "# Passenger class / Fare      => The higher the class, the higher the fare (unsurprisingly)\n",
    "# Passenger class / Survived  => The lower the class, the lower the chance to survive\n",
    "# Passenger class / Age       => The lower the age, the lower the class"
   ]
  },
  {
   "cell_type": "markdown",
   "metadata": {},
   "source": [
    "#### Use the most appropriate plot to display the summary statistics of `Age` depending on `Pclass`."
   ]
  },
  {
   "cell_type": "code",
   "execution_count": null,
   "metadata": {
    "scrolled": true
   },
   "outputs": [],
   "source": [
    "plt.figure(figsize = (5, 6))\n",
    "sns.boxplot(data = titanic, x = 'Pclass', y = 'Age')\n",
    "plt.title(\"Summary stats Age - Pclass\", size = 20, y = 1.04)\n",
    "plt.xlabel('Passenger class', size = 14)\n",
    "plt.ylabel('Passenger age', size = 14)\n",
    "plt.show()"
   ]
  },
  {
   "cell_type": "markdown",
   "metadata": {},
   "source": [
    "#### Use seaborn to plot the distribution of `Age` based on the `Gender`.\n",
    "**Hint**: Use Facetgrid."
   ]
  },
  {
   "cell_type": "code",
   "execution_count": null,
   "metadata": {},
   "outputs": [],
   "source": [
    "titanic_gender_age_dist = sns.FacetGrid(titanic, col = 'Gender')\n",
    "titanic_gender_age_dist.map(plt.hist, 'Age')\n",
    "titanic_gender_age_dist.fig.suptitle('Passenger gender - age distribution')\n",
    "titanic_gender_age_dist.fig.subplots_adjust(top = 0.82)\n",
    "plt.show()"
   ]
  }
 ],
 "metadata": {
  "anaconda-cloud": {},
  "kernelspec": {
   "display_name": "Python 3.9.12 ('base')",
   "language": "python",
   "name": "python3"
  },
  "language_info": {
   "codemirror_mode": {
    "name": "ipython",
    "version": 3
   },
   "file_extension": ".py",
   "mimetype": "text/x-python",
   "name": "python",
   "nbconvert_exporter": "python",
   "pygments_lexer": "ipython3",
   "version": "3.9.12"
  },
  "vscode": {
   "interpreter": {
    "hash": "3a677cc3a62f2d81855f233fae469a5f43f070d97a640d213221ee6c91be41b5"
   }
  }
 },
 "nbformat": 4,
 "nbformat_minor": 1
}
